{
 "cells": [
  {
   "cell_type": "markdown",
   "id": "c27bc3a9-8958-4f49-b255-03821dbf7dc2",
   "metadata": {},
   "source": [
    "# Complete Search"
   ]
  },
  {
   "cell_type": "markdown",
   "id": "f08ff797-f76e-4740-affa-73ac41c2d874",
   "metadata": {},
   "source": [
    "## Generating Subsets"
   ]
  },
  {
   "cell_type": "markdown",
   "id": "b1d31eb6-fbbb-4ad2-b676-cb9bc729db33",
   "metadata": {},
   "source": [
    "#### Cascading"
   ]
  },
  {
   "cell_type": "code",
   "execution_count": 71,
   "id": "2666f439-3d9c-45a6-8db7-8d3c70548488",
   "metadata": {},
   "outputs": [
    {
     "data": {
      "text/plain": [
       "[[], [1], [2], [1, 2], [3], [1, 3], [2, 3], [1, 2, 3]]"
      ]
     },
     "execution_count": 71,
     "metadata": {},
     "output_type": "execute_result"
    }
   ],
   "source": [
    "nums = [1, 2, 3]\n",
    "\n",
    "def subsets(nums):\n",
    "    \n",
    "    subs = [[]]\n",
    "    \n",
    "    for n in nums:\n",
    "        subs += [sub + [n] for sub in subs]\n",
    "        \n",
    "    return subs\n",
    "\n",
    "subsets(nums)"
   ]
  },
  {
   "cell_type": "markdown",
   "id": "48219d96-2b24-4e9c-bd3d-d0e4928822a3",
   "metadata": {},
   "source": [
    "#### Recursion"
   ]
  },
  {
   "cell_type": "code",
   "execution_count": 173,
   "id": "38868ac5-d975-4b6b-af2f-86da8e16d6b9",
   "metadata": {},
   "outputs": [
    {
     "data": {
      "text/plain": [
       "[[], [1], [2], [1, 2], [3], [1, 3], [2, 3], [1, 2, 3]]"
      ]
     },
     "execution_count": 173,
     "metadata": {},
     "output_type": "execute_result"
    }
   ],
   "source": [
    "nums = [1, 2, 3]\n",
    "\n",
    "def subsets(nums):\n",
    "    \n",
    "    # termination condition / end of recursive calls\n",
    "    if nums == []:\n",
    "        return [[]]\n",
    "    \n",
    "    # repeat calls dropping last number from list\n",
    "    subs = subsets(nums[:-1])\n",
    "    \n",
    "    # by the time the above has reached nums == [], subs is equal to [[]]\n",
    "    # build subsets from there append the last item from the list (list will grow each time back to the original input list)\n",
    "    return subs + [sub + [nums[-1]] for sub in subs]\n",
    "\n",
    "\n",
    "subsets(nums)"
   ]
  },
  {
   "cell_type": "markdown",
   "id": "7780cf6b-55e2-47ea-aa2f-1830a54502f0",
   "metadata": {},
   "source": [
    "## Permutations"
   ]
  }
 ],
 "metadata": {
  "kernelspec": {
   "display_name": "program_learning",
   "language": "python",
   "name": "program_learning"
  },
  "language_info": {
   "codemirror_mode": {
    "name": "ipython",
    "version": 3
   },
   "file_extension": ".py",
   "mimetype": "text/x-python",
   "name": "python",
   "nbconvert_exporter": "python",
   "pygments_lexer": "ipython3",
   "version": "3.10.4"
  }
 },
 "nbformat": 4,
 "nbformat_minor": 5
}
