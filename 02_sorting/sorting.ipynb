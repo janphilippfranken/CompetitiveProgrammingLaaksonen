{
 "cells": [
  {
   "cell_type": "markdown",
   "id": "018e9fb7-ed7d-42a7-958e-c6b25ced7cbf",
   "metadata": {},
   "source": [
    "# Sorting Algorithms"
   ]
  },
  {
   "cell_type": "markdown",
   "id": "e0250e11-7d61-48e9-82e0-d0e1570919a8",
   "metadata": {},
   "source": [
    "#### Bubble Sort O(N**2)"
   ]
  },
  {
   "cell_type": "code",
   "execution_count": 35,
   "id": "4308dc25-2ae4-4d71-bef6-b0b6294bf8f1",
   "metadata": {},
   "outputs": [
    {
     "data": {
      "text/plain": [
       "[2, 3, 3, 4, 7, 10, 11]"
      ]
     },
     "execution_count": 35,
     "metadata": {},
     "output_type": "execute_result"
    }
   ],
   "source": [
    "nums = [2, 4, 3, 10, 7, 11, 3]\n",
    "\n",
    "def bubble_sort(nums: list):\n",
    "    \n",
    "    # first iteration over list \n",
    "    for i, n_1 in enumerate(nums):\n",
    "        # second iteration over list \n",
    "        for j, n_2 in enumerate(nums):\n",
    "            # compare and swap positions if necessary \n",
    "            if n_1 < n_2:\n",
    "                nums[i], nums[j], = nums[j], nums[i]\n",
    "                \n",
    "    return nums\n",
    "\n",
    "\n",
    "bubble_sort(nums)"
   ]
  },
  {
   "cell_type": "markdown",
   "id": "3f592b2e-88e0-47ee-b10d-83faa28e119b",
   "metadata": {},
   "source": [
    "#### Merge Sort O(N log N)"
   ]
  },
  {
   "cell_type": "code",
   "execution_count": 36,
   "id": "4a8fcd71-e208-4cc7-b919-dd76fb78c322",
   "metadata": {},
   "outputs": [
    {
     "data": {
      "text/plain": [
       "[2, 3, 3, 4, 7, 10, 11]"
      ]
     },
     "execution_count": 36,
     "metadata": {},
     "output_type": "execute_result"
    }
   ],
   "source": [
    "nums = [2, 4, 3, 10, 7, 11, 3]\n",
    "\n",
    "def merge_sort(nums: list):\n",
    "    \n",
    "    # check if we still have more than one entry in our list \n",
    "    if len (nums) > 1:\n",
    "        \n",
    "        # compute mid-value, left half, and right half \n",
    "        m = len(nums) // 2\n",
    "        left = nums[:m]\n",
    "        right = nums[m:]\n",
    "        \n",
    "        # repeat for each half \n",
    "        merge_sort(left)\n",
    "        merge_sort(right)\n",
    "        \n",
    "        # define pointers for each half and initial array\n",
    "        i, j, k = 0, 0, 0\n",
    "        \n",
    "        # loop over each half and compare \n",
    "        while i < len(left) and j < len(right):\n",
    "            if left[i] <= right[j]:\n",
    "                nums[k] = left[i]\n",
    "                i += 1\n",
    "            elif left[i] > right[j]:\n",
    "                nums[k] = right[j]\n",
    "                j += 1\n",
    "            k += 1\n",
    "        \n",
    "        # add remaining numers \n",
    "        while i < len(left):\n",
    "            nums[k] = left[i]\n",
    "            i += 1\n",
    "            k += 1\n",
    "            \n",
    "        while j < len(right):\n",
    "            nums[k] = right[j]\n",
    "            j += 1\n",
    "            k += 1\n",
    "        \n",
    "    return nums\n",
    "\n",
    "\n",
    "merge_sort(nums)"
   ]
  },
  {
   "cell_type": "markdown",
   "id": "ff634488-4c28-4904-b15b-f6d722efc1fe",
   "metadata": {},
   "source": [
    "#### Count Sort O(N) --- Only works if max(nums) is not too high"
   ]
  },
  {
   "cell_type": "code",
   "execution_count": 37,
   "id": "a41b06cd-1d4d-4181-a874-0b794af9327b",
   "metadata": {},
   "outputs": [
    {
     "data": {
      "text/plain": [
       "[2, 3, 3, 4, 7, 10, 11]"
      ]
     },
     "execution_count": 37,
     "metadata": {},
     "output_type": "execute_result"
    }
   ],
   "source": [
    "nums = [2, 4, 3, 10, 7, 11, 3]\n",
    "\n",
    "def count_sort(nums):\n",
    "    \n",
    "    nums_sorted = []\n",
    "    \n",
    "    # create bookkeeping array to store nums as idxs \n",
    "    bk_array = [0] * (max(nums) + 1)\n",
    "     \n",
    "    # iterate over nums\n",
    "    for n in nums:\n",
    "        # increment idxs by one for each occurence of n\n",
    "        bk_array[n] += 1\n",
    "    \n",
    "    # iterate over bk array\n",
    "    for i, n in enumerate(bk_array):\n",
    "        # iterate over each idx in case there are multiple occurences of N\n",
    "        for j in range(n):\n",
    "            nums_sorted.append(i)\n",
    "    \n",
    "    return nums_sorted\n",
    "\n",
    "\n",
    "count_sort(nums)"
   ]
  },
  {
   "cell_type": "markdown",
   "id": "3adda395-3781-42d0-bc00-c78808671da0",
   "metadata": {},
   "source": [
    "# Search Array"
   ]
  },
  {
   "cell_type": "markdown",
   "id": "9e33d227-4ef3-45b9-84aa-7ca75ee9912e",
   "metadata": {},
   "source": [
    "#### Linear search O(N) --- Same O(N) if not sorted"
   ]
  },
  {
   "cell_type": "code",
   "execution_count": 39,
   "id": "e2a5c902-c1ce-4148-9d05-126794c6d522",
   "metadata": {},
   "outputs": [
    {
     "data": {
      "text/plain": [
       "4"
      ]
     },
     "execution_count": 39,
     "metadata": {},
     "output_type": "execute_result"
    }
   ],
   "source": [
    "nums_sorted = [2, 3, 3, 4, 7, 10, 11]\n",
    "\n",
    "target = 7\n",
    "\n",
    "def linear_search(nums_sorted, target):\n",
    "    \n",
    "    # enumerate nums\n",
    "    for i, n in enumerate(nums_sorted):\n",
    "        # check if n == target\n",
    "        if n == target:\n",
    "            # return idx\n",
    "            return i\n",
    "    # return None if target not in nums\n",
    "    return None \n",
    "\n",
    "\n",
    "linear_search(nums_sorted, target)"
   ]
  },
  {
   "cell_type": "markdown",
   "id": "a0697ec2-4359-44ac-ae31-ac58f004b919",
   "metadata": {},
   "source": [
    "#### Binary Search O(log N) --- Requires array to be sorted"
   ]
  },
  {
   "cell_type": "code",
   "execution_count": 54,
   "id": "7e7fa596-2842-4011-9120-95734fd2e3aa",
   "metadata": {},
   "outputs": [
    {
     "data": {
      "text/plain": [
       "4"
      ]
     },
     "execution_count": 54,
     "metadata": {},
     "output_type": "execute_result"
    }
   ],
   "source": [
    "nums_sorted = [2, 3, 3, 4, 7, 10, 11]\n",
    "\n",
    "target = 7\n",
    "\n",
    "def binary_search(nums_sorted, target):\n",
    "    \n",
    "    # get start and stop (l, h)\n",
    "    l, h = 0, len(nums_sorted) - 1\n",
    "    \n",
    "    # binary search steps\n",
    "    while l <= h:\n",
    "        m = (l + h) // 2\n",
    "        if nums_sorted[m] < target:\n",
    "            l = m + 1\n",
    "        elif nums_sorted[m] > target:\n",
    "            h = m - 1\n",
    "        elif nums_sorted[m] ==  target:\n",
    "            return m\n",
    "    # return None if target not in list. Alternatively return l if insert position should be returned \n",
    "    return None # return l\n",
    "\n",
    "\n",
    "binary_search(nums_sorted, target)"
   ]
  }
 ],
 "metadata": {
  "kernelspec": {
   "display_name": "Python 3 (ipykernel)",
   "language": "python",
   "name": "python3"
  },
  "language_info": {
   "codemirror_mode": {
    "name": "ipython",
    "version": 3
   },
   "file_extension": ".py",
   "mimetype": "text/x-python",
   "name": "python",
   "nbconvert_exporter": "python",
   "pygments_lexer": "ipython3",
   "version": "3.9.13"
  }
 },
 "nbformat": 4,
 "nbformat_minor": 5
}
