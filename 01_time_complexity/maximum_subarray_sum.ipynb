{
 "cells": [
  {
   "cell_type": "markdown",
   "metadata": {},
   "source": [
    "##### Maximum subarray sum\n",
    "\n",
    "* Determine largest sum of a subarray\n",
    "* There exists a linear time __Kadane's algorithm__"
   ]
  },
  {
   "cell_type": "code",
   "execution_count": 2,
   "metadata": {},
   "outputs": [
    {
     "data": {
      "text/plain": [
       "10"
      ]
     },
     "execution_count": 2,
     "metadata": {},
     "output_type": "execute_result"
    }
   ],
   "source": [
    "array = [-1, 2, 4, -3, 5, 2, -5, 2]\n",
    "\n",
    "def kadane(arr):\n",
    "    \n",
    "    best = 0 \n",
    "    curr_sum = 0 \n",
    "\n",
    "    for val in arr:\n",
    "        curr_sum = max(curr_sum + val, val)\n",
    "        best = max(curr_sum, best)\n",
    "    \n",
    "    return best\n",
    "\n",
    "kadane(array)"
   ]
  }
 ],
 "metadata": {
  "kernelspec": {
   "display_name": "Python 3.8.0 64-bit",
   "language": "python",
   "name": "python3"
  },
  "language_info": {
   "codemirror_mode": {
    "name": "ipython",
    "version": 3
   },
   "file_extension": ".py",
   "mimetype": "text/x-python",
   "name": "python",
   "nbconvert_exporter": "python",
   "pygments_lexer": "ipython3",
   "version": "3.8.0"
  },
  "orig_nbformat": 4,
  "vscode": {
   "interpreter": {
    "hash": "ffdb0c89cc842367a93be6eb468afe23766ac3749a570c7a1ecbb8f757cdd35d"
   }
  }
 },
 "nbformat": 4,
 "nbformat_minor": 2
}
