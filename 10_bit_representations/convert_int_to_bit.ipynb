{
 "cells": [
  {
   "cell_type": "markdown",
   "id": "1a177cfc-bbc8-4373-8b85-e30edae78bde",
   "metadata": {},
   "source": [
    "Converting int <-> str representations "
   ]
  },
  {
   "cell_type": "code",
   "execution_count": 4,
   "id": "660b1f8b-07d2-46a1-911d-c4453a58576f",
   "metadata": {},
   "outputs": [
    {
     "name": "stdout",
     "output_type": "stream",
     "text": [
      "000000010100100000011010001001001\n",
      "000000000000000000000000043005001\n"
     ]
    }
   ],
   "source": [
    "n = 43005001\n",
    "\n",
    "def convert_int_to_bit(n: int, basis=2):\n",
    "    \n",
    "\n",
    "    s = \"\"\n",
    "\n",
    "    start = 32\n",
    "    \n",
    "    while n > 0:\n",
    "        s += str(n // basis ** start)\n",
    "        n = n - int(s[-1]) * basis ** start \n",
    "        start -= 1\n",
    "    \n",
    "    s += \"0\" * start\n",
    "    \n",
    "    return s\n",
    "\n",
    "\n",
    "s_2 = convert_int_to_bit(n, basis = 2)\n",
    "\n",
    "print(s_2)\n",
    "\n",
    "s_10 = convert_int_to_bit(n, basis = 10)\n",
    "\n",
    "print(s_10)"
   ]
  },
  {
   "cell_type": "code",
   "execution_count": 5,
   "id": "7b701736-a28d-441c-9d4f-5f338a8b6ad3",
   "metadata": {},
   "outputs": [
    {
     "name": "stdout",
     "output_type": "stream",
     "text": [
      "43005001\n",
      "43005001\n"
     ]
    }
   ],
   "source": [
    "def convert_bit_to_int(s: str, basis=2):\n",
    "    \n",
    "    n = 0\n",
    "    \n",
    "    count = 0\n",
    "    \n",
    "    for i in reversed(s):\n",
    "        if i != \"0\":\n",
    "            n += basis ** count * int(i)\n",
    "        count += 1\n",
    "    return n\n",
    "\n",
    "print(convert_bit_to_int(s_2, basis=2))\n",
    "print(convert_bit_to_int(s_10, basis=10))     "
   ]
  }
 ],
 "metadata": {
  "kernelspec": {
   "display_name": "Python 3 (ipykernel)",
   "language": "python",
   "name": "python3"
  },
  "language_info": {
   "codemirror_mode": {
    "name": "ipython",
    "version": 3
   },
   "file_extension": ".py",
   "mimetype": "text/x-python",
   "name": "python",
   "nbconvert_exporter": "python",
   "pygments_lexer": "ipython3",
   "version": "3.9.13"
  }
 },
 "nbformat": 4,
 "nbformat_minor": 5
}
