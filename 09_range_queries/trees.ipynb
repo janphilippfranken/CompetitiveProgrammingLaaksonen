{
 "cells": [
  {
   "cell_type": "markdown",
   "id": "ff8bb2c9-cb8c-4811-b383-063054146735",
   "metadata": {},
   "source": [
    "Binary index tree "
   ]
  },
  {
   "cell_type": "code",
   "execution_count": 166,
   "id": "7dca8b49-6074-4639-b915-49569ab5968d",
   "metadata": {},
   "outputs": [
    {
     "name": "stdout",
     "output_type": "stream",
     "text": [
      "[0, 1, 3, 3, 10, 5, 11, 7, 36]\n",
      "28\n"
     ]
    },
    {
     "data": {
      "text/plain": [
       "28"
      ]
     },
     "execution_count": 166,
     "metadata": {},
     "output_type": "execute_result"
    }
   ],
   "source": [
    "# compared to prefix sum array, this one can be updated in O(log n) time \n",
    "\n",
    "def getSum(Tree, k):\n",
    "    \n",
    "    s = 0\n",
    "\n",
    "    while k >= 1: \n",
    "        s += Tree[k]\n",
    "        k -= k & -k\n",
    "    \n",
    "    return s \n",
    "\n",
    "\n",
    "def updateTree(Tree, k, x, n):\n",
    "    \n",
    "    while k <= n:\n",
    "        Tree[k] += x\n",
    "        k += k & -k\n",
    "        \n",
    "        \n",
    "def makeTree(nums, n):\n",
    "  \n",
    "    Tree = [0] * (n + 1)\n",
    "    \n",
    "    for k in range(n):\n",
    "        \n",
    "        updateTree(Tree, k + 1, nums[k], n)\n",
    "\n",
    "    return Tree\n",
    "\n",
    "nums  = [1, 2, 3, 4, 5, 6, 7, 8]\n",
    "\n",
    "Tree = makeTree(nums, len(nums))\n",
    "print(Tree)\n",
    "print(sum(nums[:7]))\n",
    "getSum(Tree, 7)"
   ]
  }
 ],
 "metadata": {
  "kernelspec": {
   "display_name": "Python 3 (ipykernel)",
   "language": "python",
   "name": "python3"
  },
  "language_info": {
   "codemirror_mode": {
    "name": "ipython",
    "version": 3
   },
   "file_extension": ".py",
   "mimetype": "text/x-python",
   "name": "python",
   "nbconvert_exporter": "python",
   "pygments_lexer": "ipython3",
   "version": "3.9.13"
  }
 },
 "nbformat": 4,
 "nbformat_minor": 5
}
