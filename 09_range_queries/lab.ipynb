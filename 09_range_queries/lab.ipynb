{
 "cells": [
  {
   "cell_type": "markdown",
   "metadata": {},
   "source": [
    "##### Static Array Queries"
   ]
  },
  {
   "cell_type": "code",
   "execution_count": null,
   "metadata": {},
   "outputs": [],
   "source": [
    "import numpy as np\n",
    "from itertools import product\n",
    "from copy import deepcopy\n",
    "\n",
    "n = 3\n",
    "\n",
    "a = [[10, 20, 30], \n",
    "    [5, 10, 20],\n",
    "    [2, 4, 6]]\n",
    "    \n",
    "prefix = deepcopy(a)\n",
    "\n",
    "for i, j in product(range(n), range(n)):\n",
    "\n",
    "    if i == 0 and j == 0:\n",
    "        continue\n",
    "    \n",
    "    lower_i = max(0, i-1)\n",
    "    lower_j = max(0, j-1)\n",
    "\n",
    "    if i == 0:\n",
    "        prefix[i][j] = prefix[i][j-1] + prefix[i][j] \n",
    "    elif j == 0:\n",
    "        prefix[i][j] = prefix[i-1][j] + prefix[i][j] \n",
    "\n",
    "    else: \n",
    "        prefix[i][j] = prefix[i][j] + prefix[lower_i][j] + prefix[i][lower_j] - prefix[lower_i][lower_j]\n",
    "\n",
    "print(np.array(prefix))\n",
    "print(np.array(a))\n",
    "\n",
    "lower_i = 1-1\n",
    "lower_j = 1-1\n",
    "upper_i = 2\n",
    "upper_j = 2\n",
    "\n",
    "prefix = np.array(prefix)\n",
    "result = prefix[upper_i, upper_j] - prefix[lower_i, upper_j] - prefix[upper_i, lower_j] + prefix[lower_i, lower_j]\n",
    "\n",
    "    \n",
    "result\n"
   ]
  }
 ],
 "metadata": {
  "kernelspec": {
   "display_name": "Python 3 (ipykernel)",
   "language": "python",
   "name": "python3"
  },
  "language_info": {
   "codemirror_mode": {
    "name": "ipython",
    "version": 3
   },
   "file_extension": ".py",
   "mimetype": "text/x-python",
   "name": "python",
   "nbconvert_exporter": "python",
   "pygments_lexer": "ipython3",
   "version": "3.9.13"
  }
 },
 "nbformat": 4,
 "nbformat_minor": 4
}
