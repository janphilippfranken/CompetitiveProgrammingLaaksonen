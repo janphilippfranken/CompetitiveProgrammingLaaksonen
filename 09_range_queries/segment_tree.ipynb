{
 "cells": [
  {
   "cell_type": "markdown",
   "id": "dee07cc2-8b0f-44f5-a860-bfbddfce6c8f",
   "metadata": {},
   "source": [
    "Segment tree"
   ]
  },
  {
   "cell_type": "code",
   "execution_count": 3,
   "id": "23c81c95-6c3f-4500-a507-81bf775dc4b2",
   "metadata": {},
   "outputs": [
    {
     "name": "stdout",
     "output_type": "stream",
     "text": [
      "[39, 22, 17, 13, 9, 9, 8, 5, 8, 6, 3, 2, 7, 2, 6]\n"
     ]
    }
   ],
   "source": [
    "nums = [5, 8, 6, 3, 2, 7, 2, 6]\n",
    "\n",
    "def buildTree(nums: list):\n",
    "    \n",
    "    tree = [0] * (len(nums) - 1) + nums\n",
    "    \n",
    "    N = len(tree)\n",
    "      \n",
    "    for i in range(len(nums), N):\n",
    "        tree[N - 1 - i] = tree[2 * (N - i) - 1] +  tree[2 * (N - i)] \n",
    "        \n",
    "    return tree\n",
    "\n",
    "tree = buildTree(nums)\n",
    "print(tree) \n",
    "\n"
   ]
  },
  {
   "cell_type": "code",
   "execution_count": 30,
   "id": "086222e5-b12d-4bc5-b5ac-b1de6fc31298",
   "metadata": {},
   "outputs": [
    {
     "name": "stdout",
     "output_type": "stream",
     "text": [
      "[39, 22, 17, 13, 9, 9, 8, 5, 8, 6, 3, 2, 7, 2, 6]\n"
     ]
    },
    {
     "data": {
      "text/plain": [
       "14"
      ]
     },
     "execution_count": 30,
     "metadata": {},
     "output_type": "execute_result"
    }
   ],
   "source": [
    "nums = [5, 8, 6, 3, 2, 7, 2, 6]\n",
    "print(tree)\n",
    "def sumTree(tree: list, a: int, b: int):\n",
    "\n",
    "    a += len(tree) // 2\n",
    "    b += len(tree) // 2 \n",
    "    \n",
    "    s = 0\n",
    "    \n",
    "    \n",
    "    while a < b:\n",
    "        \n",
    "        if a % 2  == 0: \n",
    "            s += tree[a]\n",
    "            a += 1\n",
    "        if b % 2 == 0:\n",
    "            b -= 1\n",
    "            s += tree[b]\n",
    "           \n",
    "            \n",
    "        a = a // 2\n",
    "        b = b // 2\n",
    "       \n",
    "    \n",
    "    return s\n",
    "\n",
    "sumTree(tree, 1, 3)"
   ]
  },
  {
   "cell_type": "code",
   "execution_count": 31,
   "id": "7a020535-5063-4c09-89fa-97dd46ae0a8d",
   "metadata": {},
   "outputs": [
    {
     "name": "stdout",
     "output_type": "stream",
     "text": [
      "[134, 117, 17, 108, 9, 9, 8, 100, 8, 6, 3, 2, 7, 2, 6]\n"
     ]
    }
   ],
   "source": [
    "def updateTree(tree: list, idx: int, value: int):\n",
    "    \n",
    "    i = idx + len(tree) // 2 \n",
    "    \n",
    "    tree[i] = value\n",
    "    \n",
    "    while i >= 1:\n",
    "        \n",
    "        \n",
    "        tree[i // 2] = tree[i] + tree[i + 1]\n",
    "        \n",
    "        i = i // 2\n",
    "        \n",
    "    print(tree)\n",
    "    \n",
    "updateTree(tree, 0, 100)"
   ]
  }
 ],
 "metadata": {
  "kernelspec": {
   "display_name": "Python 3 (ipykernel)",
   "language": "python",
   "name": "python3"
  },
  "language_info": {
   "codemirror_mode": {
    "name": "ipython",
    "version": 3
   },
   "file_extension": ".py",
   "mimetype": "text/x-python",
   "name": "python",
   "nbconvert_exporter": "python",
   "pygments_lexer": "ipython3",
   "version": "3.9.13"
  }
 },
 "nbformat": 4,
 "nbformat_minor": 5
}
