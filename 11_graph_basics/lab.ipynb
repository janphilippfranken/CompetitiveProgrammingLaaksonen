{
 "cells": [
  {
   "cell_type": "code",
   "execution_count": 1,
   "metadata": {},
   "outputs": [],
   "source": [
    "import numpy as np\n",
    "import matplotlib.pyplot as plt\n",
    "plt.style.use('bmh')"
   ]
  },
  {
   "cell_type": "markdown",
   "metadata": {},
   "source": [
    "Graph defined as set of $n$ nodes and $m$ edges.\n",
    "\n",
    "\n",
    "A __path__ leads from node $a$ to node $b$.\n",
    "\n",
    "Its length is the number of edges in it.\n",
    "\n",
    "A __cycle__ is a path that starts and ends on the same node.\n",
    "\n",
    "A path is __simple__ if every of its node appears only once.\n",
    "\n",
    "A graph is __connected__ if every two nodes have a path that connects them.\n",
    "\n",
    "The connected parts of a graph are called __components__.\n",
    "\n",
    "A __tree__ is a connected graph that consists of $n$ nodes and $n-1$ edges.\n",
    "\n",
    "... Lots of definitions, just read the book man"
   ]
  },
  {
   "cell_type": "code",
   "execution_count": 15,
   "metadata": {},
   "outputs": [],
   "source": [
    "from itertools import product \n",
    "\n",
    "\n",
    "adjacency_matrix = [[0, 5, 0, 0], [0, 0, 7, 6], [0, 0, 0, 5], [2, 0, 0, 0]]\n",
    "\n",
    "def matrix_to_edge(matrix: list):\n",
    "    \n",
    "    edges = [] \n",
    "\n",
    "    \n",
    "    R, C = len(matrix), len(matrix)\n",
    "    \n",
    "    \n",
    "    for i, j in product(range(R), range(C)):\n",
    "        \n",
    "        if matrix[i][j] != 0:\n",
    "            edges.append(tuple([i, j, matrix[i][j]]))\n",
    "        \n",
    "        \n",
    "    return edges\n",
    "    \n",
    "\n",
    "edges = matrix_to_edge(adjacency_matrix)"
   ]
  },
  {
   "cell_type": "code",
   "execution_count": 16,
   "metadata": {},
   "outputs": [
    {
     "data": {
      "text/plain": [
       "array([[0., 5., 0., 0.],\n",
       "       [0., 0., 7., 6.],\n",
       "       [0., 0., 0., 5.],\n",
       "       [2., 0., 0., 0.]])"
      ]
     },
     "execution_count": 16,
     "metadata": {},
     "output_type": "execute_result"
    }
   ],
   "source": [
    "import numpy as np\n",
    "\n",
    "def edge_to_matrix(edges: list, n_nodes: int):\n",
    "    \n",
    "    matrix = np.zeros((n_nodes, n_nodes))\n",
    "    \n",
    "    for edge in edges:\n",
    "        matrix[edge[0]][edge[1]] = edge[2]\n",
    "\n",
    "    return matrix\n",
    "\n",
    "edge_to_matrix(edges, 4)"
   ]
  },
  {
   "cell_type": "code",
   "execution_count": 18,
   "metadata": {},
   "outputs": [
    {
     "data": {
      "text/plain": [
       "[[(1, 5)], [(2, 7), (3, 6)], [(3, 5)], [(0, 2)]]"
      ]
     },
     "execution_count": 18,
     "metadata": {},
     "output_type": "execute_result"
    }
   ],
   "source": [
    "adjacency_matrix = [[0, 5, 0, 0], [0, 0, 7, 6], [0, 0, 0, 5], [2, 0, 0, 0]]\n",
    "\n",
    "def make_adjacency_list(matrix: list):\n",
    "    \n",
    "    n_nodes = len(matrix)\n",
    "    \n",
    "    adjacency_list = []\n",
    "    \n",
    "    R, C = len(matrix), len(matrix)\n",
    "    \n",
    "    for i in range(R):\n",
    "        outgoing_connections = []\n",
    "        for j in range(C):\n",
    "            \n",
    "            if matrix[i][j] != 0:\n",
    "                outgoing_connections.append(tuple([j, matrix[i][j]]))\n",
    "            \n",
    "        adjacency_list.append(outgoing_connections)\n",
    "    \n",
    "    return adjacency_list\n",
    "\n",
    "make_adjacency_list(adjacency_matrix)"
   ]
  }
 ],
 "metadata": {
  "kernelspec": {
   "display_name": "Python 3 (ipykernel)",
   "language": "python",
   "name": "python3"
  },
  "language_info": {
   "codemirror_mode": {
    "name": "ipython",
    "version": 3
   },
   "file_extension": ".py",
   "mimetype": "text/x-python",
   "name": "python",
   "nbconvert_exporter": "python",
   "pygments_lexer": "ipython3",
   "version": "3.9.13"
  },
  "vscode": {
   "interpreter": {
    "hash": "ffdb0c89cc842367a93be6eb468afe23766ac3749a570c7a1ecbb8f757cdd35d"
   }
  }
 },
 "nbformat": 4,
 "nbformat_minor": 4
}
