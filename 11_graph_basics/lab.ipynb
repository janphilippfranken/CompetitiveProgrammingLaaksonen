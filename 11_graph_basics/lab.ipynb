{
 "cells": [
  {
   "cell_type": "code",
   "execution_count": 1,
   "metadata": {},
   "outputs": [],
   "source": [
    "import numpy as np\n",
    "import matplotlib.pyplot as plt\n",
    "plt.style.use('bmh')"
   ]
  },
  {
   "cell_type": "markdown",
   "metadata": {},
   "source": [
    "Graph defined as set of $n$ nodes and $m$ edges.\n",
    "\n",
    "\n",
    "A __path__ leads from node $a$ to node $b$.\n",
    "\n",
    "Its length is the number of edges in it.\n",
    "\n",
    "A __cycle__ is a path that starts and ends on the same node.\n",
    "\n",
    "A path is __simple__ if every of its node appears only once.\n",
    "\n",
    "A graph is __connected__ if every two nodes have a path that connects them.\n",
    "\n",
    "The connected parts of a graph are called __components__.\n",
    "\n",
    "A __tree__ is a connected graph that consists of $n$ nodes and $n-1$ edges.\n",
    "\n",
    "... Lots of definitions, just read the book man"
   ]
  },
  {
   "cell_type": "code",
   "execution_count": null,
   "metadata": {},
   "outputs": [],
   "source": [
    "graph = [[] for _ in range(1, 5)]\n",
    "\n",
    "graph[0] = [1]\n",
    "graph[1] = [2, 3]\n",
    "graph[2] = [3]\n",
    "graph[3] = [0]\n",
    "\n",
    "import networkx as nx\n"
   ]
  },
  {
   "cell_type": "code",
   "execution_count": null,
   "metadata": {},
   "outputs": [],
   "source": []
  }
 ],
 "metadata": {
  "kernelspec": {
   "display_name": "Python 3.8.0 64-bit",
   "language": "python",
   "name": "python3"
  },
  "language_info": {
   "codemirror_mode": {
    "name": "ipython",
    "version": 3
   },
   "file_extension": ".py",
   "mimetype": "text/x-python",
   "name": "python",
   "nbconvert_exporter": "python",
   "pygments_lexer": "ipython3",
   "version": "3.8.0"
  },
  "orig_nbformat": 4,
  "vscode": {
   "interpreter": {
    "hash": "ffdb0c89cc842367a93be6eb468afe23766ac3749a570c7a1ecbb8f757cdd35d"
   }
  }
 },
 "nbformat": 4,
 "nbformat_minor": 2
}
