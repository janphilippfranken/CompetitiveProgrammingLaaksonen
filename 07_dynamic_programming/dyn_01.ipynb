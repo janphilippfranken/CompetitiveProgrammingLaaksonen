{
 "cells": [
  {
   "cell_type": "markdown",
   "id": "077a9c66-ec8a-4674-b6f7-bbc93895c3e1",
   "metadata": {},
   "source": [
    "# Dynamic Programming"
   ]
  },
  {
   "cell_type": "markdown",
   "id": "cc7b8815-ad21-44d1-9d78-6dacde976c77",
   "metadata": {},
   "source": [
    "Dynamic Programming: Greedy Search + Complete Search"
   ]
  },
  {
   "cell_type": "markdown",
   "id": "a88dd450-663b-4b2d-b4c4-761bb2f2c911",
   "metadata": {},
   "source": [
    "### Coin Problem "
   ]
  },
  {
   "cell_type": "code",
   "execution_count": 9,
   "id": "bba079a7-16be-4bbd-964e-db6ac30c855e",
   "metadata": {},
   "outputs": [
    {
     "name": "stdout",
     "output_type": "stream",
     "text": [
      "8\n",
      "0.7385289669036865\n"
     ]
    }
   ],
   "source": [
    "import time \n",
    "\n",
    "n = 30\n",
    "\n",
    "coins = [1, 3, 4]\n",
    "\n",
    "def get_coins(n):\n",
    "    \n",
    "    if n < 0:\n",
    "        return 2*32\n",
    "    \n",
    "    if n == 0:\n",
    "        return 0\n",
    "    \n",
    "    best = 2**32\n",
    "    \n",
    "    for coin in coins:\n",
    "        \n",
    "        best = min(best, get_coins(n - coin) + 1)\n",
    "        \n",
    "    return best\n",
    "\n",
    " \n",
    "t0 = time.time()\n",
    "\n",
    "print(get_coins(n))\n",
    "\n",
    "print(time.time() - t0)"
   ]
  },
  {
   "cell_type": "code",
   "execution_count": 10,
   "id": "a56f10d4-be5a-49df-a552-bf80d097fc42",
   "metadata": {},
   "outputs": [
    {
     "name": "stdout",
     "output_type": "stream",
     "text": [
      "8\n",
      "0.000553131103515625\n"
     ]
    }
   ],
   "source": [
    "n = 30\n",
    "\n",
    "coins = [1, 3, 4]\n",
    "\n",
    "\n",
    "ready = [False for _ in range(n)]\n",
    "value = [n for _ in range(n)]\n",
    "\n",
    "    \n",
    "def get_coins_efficient(n):\n",
    "    \n",
    "    if n < 0: \n",
    "        return 2**32\n",
    "    if n == 0: \n",
    "        return 0\n",
    "    \n",
    "    if ready[n-1]:\n",
    "        return value[n-1]\n",
    "    \n",
    "    best = 2**32\n",
    "    \n",
    "    for coin in coins:\n",
    "        best = min(best, get_coins_efficient(n - coin) + 1)\n",
    "        \n",
    "    value[n-1] = best\n",
    "    ready[n-1] = True\n",
    "    \n",
    "    return best\n",
    "\n",
    "t0 = time.time()\n",
    "\n",
    "print(get_coins_efficient(n))\n",
    "\n",
    "print(time.time() - t0)"
   ]
  },
  {
   "cell_type": "markdown",
   "id": "9b033030-3f62-4546-855c-19ced406ce84",
   "metadata": {},
   "source": [
    "### Climbing Stairs"
   ]
  },
  {
   "cell_type": "code",
   "execution_count": 18,
   "id": "7b90b172-12a2-49b3-b9e6-7c0116ae3eae",
   "metadata": {},
   "outputs": [
    {
     "data": {
      "text/plain": [
       "10946"
      ]
     },
     "execution_count": 18,
     "metadata": {},
     "output_type": "execute_result"
    }
   ],
   "source": [
    "n = 20\n",
    "\n",
    "def step(n):\n",
    "    \n",
    "    if n == 2:\n",
    "        return 2\n",
    "    \n",
    "    if n == 1:\n",
    "        return 1\n",
    "    \n",
    "    return step(n - 1) + step(n - 2)\n",
    "    \n",
    "step(n)"
   ]
  },
  {
   "cell_type": "code",
   "execution_count": 19,
   "id": "ec87c866-ec4b-415b-8fc5-4b1854db339e",
   "metadata": {},
   "outputs": [
    {
     "data": {
      "text/plain": [
       "10946"
      ]
     },
     "execution_count": 19,
     "metadata": {},
     "output_type": "execute_result"
    }
   ],
   "source": [
    "n = 20\n",
    "\n",
    "def step(n):\n",
    "    \n",
    "    one, two = 1, 1\n",
    "    \n",
    "    for i in range(n - 1):\n",
    "        temp = one\n",
    "        one = one + two\n",
    "        two = temp \n",
    "        \n",
    "    return one\n",
    "\n",
    "step(n)"
   ]
  }
 ],
 "metadata": {
  "kernelspec": {
   "display_name": "Python 3 (ipykernel)",
   "language": "python",
   "name": "python3"
  },
  "language_info": {
   "codemirror_mode": {
    "name": "ipython",
    "version": 3
   },
   "file_extension": ".py",
   "mimetype": "text/x-python",
   "name": "python",
   "nbconvert_exporter": "python",
   "pygments_lexer": "ipython3",
   "version": "3.9.13"
  }
 },
 "nbformat": 4,
 "nbformat_minor": 5
}
