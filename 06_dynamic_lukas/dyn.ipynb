{
 "cells": [
  {
   "cell_type": "markdown",
   "metadata": {},
   "source": [
    "##### Knapsack problem"
   ]
  },
  {
   "cell_type": "code",
   "execution_count": 9,
   "metadata": {},
   "outputs": [
    {
     "name": "stdout",
     "output_type": "stream",
     "text": [
      "0\n",
      "1\n",
      "3\n",
      "4\n",
      "5\n",
      "6\n",
      "7\n",
      "8\n",
      "9\n",
      "11\n",
      "12\n"
     ]
    }
   ],
   "source": [
    "# Problem: given list of numbers, return list of all sums that can be formed from entries in list\n",
    "\n",
    "def solve_knapsack(nums):\n",
    "\n",
    "    possible = [False for _ in range(sum(nums)+1)]\n",
    "    possible[0] = True\n",
    "\n",
    "    for k in range(len(nums)):\n",
    "        for val in range(0, sum(nums))[::-1]:\n",
    "            if possible[val]:\n",
    "                possible[val + nums[k]] = True\n",
    "        \n",
    "    return possible \n",
    "\n",
    "nums = [1, 3, 3, 5]\n",
    "sol = solve_knapsack(nums)\n",
    "\n",
    "for i, val in enumerate(sol):\n",
    "    if val: print(i)"
   ]
  },
  {
   "cell_type": "markdown",
   "metadata": {},
   "source": [
    "##### Edit distance"
   ]
  },
  {
   "cell_type": "code",
   "execution_count": 16,
   "metadata": {},
   "outputs": [
    {
     "data": {
      "text/plain": [
       "4"
      ]
     },
     "execution_count": 16,
     "metadata": {},
     "output_type": "execute_result"
    }
   ],
   "source": [
    "def distance(x, y):\n",
    "    cost = int(x[-1] != y[-1])\n",
    "\n",
    "    if len(x) == 1:\n",
    "        return len(y) - 1 + cost\n",
    "    if len(y) == 1:\n",
    "        return len(x) - 1 + cost\n",
    "\n",
    "    return min([\n",
    "        distance(x[:-1], y) + 1,\n",
    "        distance(x, y[:-1]) + 1,\n",
    "        distance(x[:-1], y[:-1]) + cost \n",
    "        ])\n",
    "        \n",
    "\n",
    "x = 'SUNSHINEEE'\n",
    "y = 'SUISHONE'\n",
    "\n",
    "distance(x, y)"
   ]
  },
  {
   "cell_type": "markdown",
   "metadata": {},
   "source": [
    "##### Counting Tilings"
   ]
  },
  {
   "cell_type": "code",
   "execution_count": 1,
   "metadata": {},
   "outputs": [
    {
     "data": {
      "text/plain": [
       "[1, 2, 3, 4]"
      ]
     },
     "execution_count": 1,
     "metadata": {},
     "output_type": "execute_result"
    }
   ],
   "source": [
    "def preprocess(width, height):\n",
    "    if width > height:\n",
    "        return height, width \n",
    "    else:\n",
    "        return width, height\n",
    "    \n",
    "global count\n",
    "count = 0\n",
    "\n",
    "signs = ['C', ')', 'U', 'bow']\n",
    "lower_compatibility = {\n",
    "    'C': signs,\n",
    "    ')': signs,\n",
    "    'bow': signs,\n",
    "    'U': ['bow'],\n",
    "}\n",
    "    \n",
    "\n",
    "def count_tilings(row_index, width, lower_neighbor):\n",
    "    \n",
    "    # exisiting signs\n",
    "    # upwards: U    \n",
    "    # downwards: bow    \n",
    "    # rightwards: C   \n",
    "    # leftwards: )\n",
    "    \n",
    "    if row_index = 0:\n",
    "        \n",
    "\n",
    "    \n",
    "    \n",
    "    \n",
    "\n",
    "w, h = 4, 7\n",
    "w, h = preprocess(w, h)\n",
    "\n"
   ]
  }
 ],
 "metadata": {
  "kernelspec": {
   "display_name": "Python 3.8.0 64-bit",
   "language": "python",
   "name": "python3"
  },
  "language_info": {
   "codemirror_mode": {
    "name": "ipython",
    "version": 3
   },
   "file_extension": ".py",
   "mimetype": "text/x-python",
   "name": "python",
   "nbconvert_exporter": "python",
   "pygments_lexer": "ipython3",
   "version": "3.8.0"
  },
  "orig_nbformat": 4,
  "vscode": {
   "interpreter": {
    "hash": "ffdb0c89cc842367a93be6eb468afe23766ac3749a570c7a1ecbb8f757cdd35d"
   }
  }
 },
 "nbformat": 4,
 "nbformat_minor": 2
}
