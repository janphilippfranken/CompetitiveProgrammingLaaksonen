{
 "cells": [
  {
   "cell_type": "markdown",
   "id": "eca532a2-d76c-4f7e-b4f2-4ddfacd48d5b",
   "metadata": {
    "tags": []
   },
   "source": [
    "### Amortized analysis"
   ]
  },
  {
   "cell_type": "markdown",
   "id": "8b9f650e-d89a-4e3c-ade2-9bdc11e398bc",
   "metadata": {},
   "source": [
    "Two Pointers "
   ]
  },
  {
   "cell_type": "code",
   "execution_count": 166,
   "id": "7adcb5bf-8640-44af-8858-23058f0f2c16",
   "metadata": {},
   "outputs": [
    {
     "data": {
      "text/plain": [
       "[2, 5, 1]"
      ]
     },
     "execution_count": 166,
     "metadata": {},
     "output_type": "execute_result"
    }
   ],
   "source": [
    "nums = [1, 3, 2, 5, 1, 3]\n",
    "\n",
    "target = 8\n",
    "\n",
    "\n",
    "def subarray_sum(nums, target):\n",
    "    \n",
    "    i, j = 1, 0\n",
    "    \n",
    "    curr_sum = 0\n",
    "    \n",
    "    while i < len(nums): \n",
    "        \n",
    "        curr_sum = sum(nums[j:i])\n",
    "        \n",
    "        if curr_sum < target:\n",
    "            i += 1\n",
    "            \n",
    "        if curr_sum > target:\n",
    "            j += 1\n",
    "            \n",
    "        if curr_sum == target:\n",
    "            return nums[j:i]\n",
    "        \n",
    "    return None\n",
    "\n",
    "subarray_sum(nums, target)"
   ]
  },
  {
   "cell_type": "markdown",
   "id": "b4dfc16d-088c-4ec6-a447-8e73314c2d41",
   "metadata": {},
   "source": [
    "Two Sum Hashmap"
   ]
  },
  {
   "cell_type": "code",
   "execution_count": 167,
   "id": "99ceb33a-a819-4317-a63c-079fd0a85bf7",
   "metadata": {},
   "outputs": [
    {
     "data": {
      "text/plain": [
       "(1, 3)"
      ]
     },
     "execution_count": 167,
     "metadata": {},
     "output_type": "execute_result"
    }
   ],
   "source": [
    "nums = [1, 3, 2, 5, 1, 3]\n",
    "\n",
    "target = 8\n",
    "\n",
    "def twoSumHashmap(nums, target):\n",
    "    \n",
    "    hashmap = {v: k for k, v in enumerate(nums)}\n",
    "    \n",
    "    for i, n in enumerate(nums):\n",
    "        \n",
    "        n_2 = target - n\n",
    "        \n",
    "        if n_2 in hashmap:\n",
    "            \n",
    "            return i, hashmap[n_2]\n",
    "\n",
    "    return None\n",
    "\n",
    "twoSumHashmap(nums, target)"
   ]
  },
  {
   "cell_type": "markdown",
   "id": "e3da208c-019f-44e1-abce-e8e9fe50b669",
   "metadata": {},
   "source": [
    "Two Sum Two Pointers"
   ]
  },
  {
   "cell_type": "code",
   "execution_count": 173,
   "id": "b0a29d2b-7467-4cb6-aa62-22a8fd549296",
   "metadata": {},
   "outputs": [
    {
     "data": {
      "text/plain": [
       "(3, 5)"
      ]
     },
     "execution_count": 173,
     "metadata": {},
     "output_type": "execute_result"
    }
   ],
   "source": [
    "nums = [1, 3, 2, 1, 3, 5]\n",
    "\n",
    "target = 8\n",
    "\n",
    "def twoSumTwoPointer(nums, target): \n",
    "    \n",
    "    i, j = 0, len(nums) - 1 \n",
    "    \n",
    "    nums = sorted(nums)\n",
    "    \n",
    "    while i < j:    \n",
    "        if nums[i] + nums[j] == target:\n",
    "            return i, j\n",
    "        elif nums[i] + nums[j] < target:\n",
    "            i += 1\n",
    "        elif nums[i] + nums[j] > target:\n",
    "            j -= 1\n",
    "\n",
    "    return False\n",
    "    \n",
    "twoSumTwoPointer(nums, target)    "
   ]
  },
  {
   "cell_type": "markdown",
   "id": "160a6c34-e126-4f11-a008-675f1305a790",
   "metadata": {},
   "source": [
    "Sliding window"
   ]
  },
  {
   "cell_type": "code",
   "execution_count": 174,
   "id": "37f72ac6-deec-4431-afcd-cb7212a6f398",
   "metadata": {},
   "outputs": [
    {
     "data": {
      "text/plain": [
       "[1, 1, 3, 1, 1]"
      ]
     },
     "execution_count": 174,
     "metadata": {},
     "output_type": "execute_result"
    }
   ],
   "source": [
    "nums = [2, 1, 4, 5, 3, 4, 1, 2]\n",
    "\n",
    "size = 4 \n",
    "\n",
    "def slidingWindow(nums, size):\n",
    "    \n",
    "    min_window = []\n",
    "    \n",
    "    queue = []\n",
    "    \n",
    "    for i in range(size):\n",
    "        \n",
    "        if len(queue) == 0:\n",
    "            queue.append(nums[i])\n",
    "            continue\n",
    "        \n",
    "        while len(queue) > 0 and queue[-1] > nums[i]:\n",
    "            queue.pop()\n",
    "            \n",
    "        queue.append(nums[i])\n",
    "     \n",
    "    min_window.append(queue[0])\n",
    "    \n",
    "\n",
    "    for i in range(1, len(nums) - size + 1):\n",
    "        \n",
    "        sub_array = nums[i: i + size]\n",
    "        \n",
    "        if nums[i - 1] == queue[0]:\n",
    "            queue.pop(0)\n",
    "        \n",
    "        while len(queue) > 0 and queue[-1] >= sub_array[-1]:\n",
    "            queue.pop() \n",
    "            \n",
    "        queue.append(sub_array[-1])\n",
    "        \n",
    "        min_window.append(queue[0])\n",
    "    \n",
    "    \n",
    "    return min_window\n",
    "    \n",
    "slidingWindow(nums, size)"
   ]
  }
 ],
 "metadata": {
  "kernelspec": {
   "display_name": "Python 3 (ipykernel)",
   "language": "python",
   "name": "python3"
  },
  "language_info": {
   "codemirror_mode": {
    "name": "ipython",
    "version": 3
   },
   "file_extension": ".py",
   "mimetype": "text/x-python",
   "name": "python",
   "nbconvert_exporter": "python",
   "pygments_lexer": "ipython3",
   "version": "3.9.13"
  }
 },
 "nbformat": 4,
 "nbformat_minor": 5
}
