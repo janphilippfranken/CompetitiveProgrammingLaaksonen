{
 "cells": [
  {
   "cell_type": "markdown",
   "id": "253fe52d-4c49-4fba-9bae-53c336202b70",
   "metadata": {},
   "source": [
    "Depth first search"
   ]
  },
  {
   "cell_type": "code",
   "execution_count": 41,
   "id": "1521ccd1-d960-4ead-bc8a-8dbb03bd9efa",
   "metadata": {},
   "outputs": [
    {
     "name": "stdout",
     "output_type": "stream",
     "text": [
      "5\n",
      "3\n",
      "2\n",
      "4\n",
      "8\n",
      "7\n"
     ]
    }
   ],
   "source": [
    "graph = {\n",
    "  '5' : ['3','7'],\n",
    "  '3' : ['2', '4'],\n",
    "  '7' : ['8'],\n",
    "  '2' : [],\n",
    "  '4' : ['8'],\n",
    "  '8' : []\n",
    "}\n",
    "\n",
    "visited = set() # Set to keep track of visited nodes of graph.\n",
    "\n",
    "def dfs(visited, graph, node):  #function for dfs \n",
    "    if node not in visited:\n",
    "        print (node)\n",
    "        visited.add(node)\n",
    "        # print(visited)\n",
    "        for neighbour in graph[node]:\n",
    "            # print(neighbour)\n",
    "            dfs(visited, graph, neighbour)\n",
    "\n",
    "# Driver Code\n",
    "dfs(visited, graph, '5')"
   ]
  },
  {
   "cell_type": "markdown",
   "id": "94d16912-ef26-45b0-aca0-b03484e4a82c",
   "metadata": {},
   "source": [
    "Breadth first search"
   ]
  },
  {
   "cell_type": "code",
   "execution_count": 44,
   "id": "30e8c67a-19c0-4cd4-89b9-515f9a75ae9b",
   "metadata": {},
   "outputs": [
    {
     "name": "stdout",
     "output_type": "stream",
     "text": [
      "['A', 'B', 'C', 'D', 'E', 'F']\n"
     ]
    }
   ],
   "source": [
    "graph = {\n",
    "  'A' : ['B','C'],\n",
    "  'B' : ['D', 'E'],\n",
    "  'C' : ['F'],\n",
    "  'D' : [],\n",
    "  'E' : ['F'],\n",
    "  'F' : []\n",
    "}\n",
    "\n",
    "visited = [] # List to keep track of visited nodes.\n",
    "queue = []     #Initialize a queue\n",
    "\n",
    "def bfs(visited, graph, node):\n",
    "    visited.append(node)\n",
    "    queue.append(node)\n",
    "\n",
    "    while queue:\n",
    "        s = queue.pop(0) \n",
    "        # print (s, end = \" \") \n",
    "\n",
    "        for neighbour in graph[s]:\n",
    "            if neighbour not in visited:\n",
    "                visited.append(neighbour)\n",
    "                queue.append(neighbour)\n",
    "\n",
    "        # Driver Code\n",
    "bfs(visited, graph, 'A')\n",
    "print(visited)"
   ]
  },
  {
   "cell_type": "markdown",
   "id": "af233066-956e-47bb-83dc-c126efa231ad",
   "metadata": {},
   "source": [
    "Applicaction of DFS to LeetCode Floodfill"
   ]
  },
  {
   "cell_type": "code",
   "execution_count": 69,
   "id": "354e8a51-e102-471a-9249-5fae2c547df8",
   "metadata": {},
   "outputs": [
    {
     "data": {
      "text/plain": [
       "[[2, 2, 2], [2, 2, 0], [2, 0, 1]]"
      ]
     },
     "execution_count": 69,
     "metadata": {},
     "output_type": "execute_result"
    }
   ],
   "source": [
    "image = [[1,1,1],\n",
    "         [1,1,0],\n",
    "         [1,0,1]]\n",
    "sr = 1\n",
    "sc = 1\n",
    "color = 2\n",
    "\n",
    "def flood(image, sr, sc, new_color):\n",
    "    \n",
    "    R, C = len(image), len(image)\n",
    "    \n",
    "    color = image[sr][sc]\n",
    "    \n",
    "    if color == new_color:\n",
    "        return image\n",
    "    \n",
    "    def dfs(r, c):\n",
    "        if image[r][c] == color:\n",
    "            image[r][c] = new_color\n",
    "            if r < R - 1: dfs(r + 1, c)\n",
    "            if r >= 1: dfs(r - 1, c)\n",
    "            if c < C - 1: dfs(r, c + 1)\n",
    "            if c >= 1: dfs(r, c - 1)\n",
    "    \n",
    "    dfs(sr, sc)\n",
    "\n",
    "        \n",
    "    \n",
    "    return image\n",
    "    \n",
    "flood(image, sr, sc, color)"
   ]
  },
  {
   "cell_type": "markdown",
   "id": "32c52d21-c9d1-4a22-b28a-59fa554d6975",
   "metadata": {},
   "source": [
    "Bellmann-Ford algorithm - shortest path from Node to Node"
   ]
  },
  {
   "cell_type": "code",
   "execution_count": 70,
   "id": "1f62ad8a-8bd0-42c7-850e-20a1c653bc3b",
   "metadata": {},
   "outputs": [],
   "source": [
    "import numpy as np"
   ]
  },
  {
   "cell_type": "code",
   "execution_count": 71,
   "id": "23896710-f8a7-434b-a1fa-ecaf0dd832ff",
   "metadata": {},
   "outputs": [
    {
     "name": "stdout",
     "output_type": "stream",
     "text": [
      "[0, 5, 3, 4, 6]\n"
     ]
    }
   ],
   "source": [
    "graph = [[(1, 5), (2, 3), (3, 7)], [(3, 3), (4, 2)], [(3, 1)], [(4, 2)], []]\n",
    "\n",
    "def bellman_ford(graph: list, n_nodes: int):\n",
    "    \n",
    "    curr_node = curr_node = graph[0][0]\n",
    "    \n",
    "    distances = [0] + [np.infty] * (n_nodes - 1)\n",
    "    \n",
    "    nodes = []\n",
    "    \n",
    "    for node in range(n_nodes):\n",
    "        edges = graph[node]\n",
    "        for edge in edges:\n",
    "            distances[edge[0]] = min(distances[edge[0]], edge[1] + distances[node])\n",
    "           \n",
    "        \n",
    "    print(distances)\n",
    "    \n",
    "\n",
    "    \n",
    "bellman_ford(graph, 5)"
   ]
  }
 ],
 "metadata": {
  "kernelspec": {
   "display_name": "Python 3 (ipykernel)",
   "language": "python",
   "name": "python3"
  },
  "language_info": {
   "codemirror_mode": {
    "name": "ipython",
    "version": 3
   },
   "file_extension": ".py",
   "mimetype": "text/x-python",
   "name": "python",
   "nbconvert_exporter": "python",
   "pygments_lexer": "ipython3",
   "version": "3.9.13"
  }
 },
 "nbformat": 4,
 "nbformat_minor": 5
}
